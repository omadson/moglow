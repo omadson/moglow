{
 "cells": [
  {
   "cell_type": "code",
   "execution_count": 1,
   "metadata": {},
   "outputs": [],
   "source": [
    "import pandas as pd\n",
    "import numpy as np\n",
    "from matplotlib import pyplot as plt\n",
    "from tqdm.notebook import tqdm\n",
    "import torch\n",
    "from torch import optim\n",
    "from torch.utils.data import DataLoader\n",
    "\n",
    "from src.moglow import Moglow\n",
    "from src.data import SeriesDataset"
   ]
  },
  {
   "cell_type": "code",
   "execution_count": 2,
   "metadata": {},
   "outputs": [],
   "source": [
    "# flow setup\n",
    "sequence_length = 5\n",
    "num_layers = 3\n",
    "coupling_flow='affine'\n",
    "coupling_network='lstm'\n",
    "hidden_features=64\n",
    "num_blocks_per_layer=2\n",
    "\n",
    "# experiment setup\n",
    "batch_size = 128\n",
    "learning_rate = 1e-3\n",
    "weight_decay = 1e-2\n",
    "max_epochs = 1000\n",
    "device = torch.device(\"cuda:0\" if torch.cuda.is_available() else \"cpu\")\n",
    "log_interval = 100"
   ]
  },
  {
   "cell_type": "code",
   "execution_count": 3,
   "metadata": {},
   "outputs": [],
   "source": [
    "n_travels = 512\n",
    "samples = np.random.choice(list(range(5050)), n_travels, replace=False)\n",
    "df_train = (\n",
    "    pd\n",
    "    .read_csv('../data/raw/data-train.csv')\n",
    ")\n",
    "df_test = (\n",
    "    pd\n",
    "    .read_csv('../data/raw/data-test.csv')\n",
    ")\n",
    "df_train_sampled = df_train.query('travel in @samples')"
   ]
  },
  {
   "cell_type": "code",
   "execution_count": 4,
   "metadata": {},
   "outputs": [
    {
     "name": "stdout",
     "output_type": "stream",
     "text": [
      "autoreg:(512, 295, 10)\n",
      "self.x:(512, 2, 295)\n",
      "self.cond:(512, 10, 295)\n"
     ]
    }
   ],
   "source": [
    "train_set = SeriesDataset(\n",
    "    df=df_train_sampled, \n",
    "    data_columns=['x1', 'x2'],\n",
    "    label_column='label',\n",
    "    serie_column='travel',\n",
    "    seqlen=sequence_length,\n",
    "    dropout=0,\n",
    ")\n",
    "train_set_size = train_set[:]['x'].shape[0]\n",
    "train_loader = DataLoader(train_set, batch_size=batch_size, shuffle=True)"
   ]
  },
  {
   "cell_type": "code",
   "execution_count": 5,
   "metadata": {},
   "outputs": [],
   "source": [
    "features, sequence_length = train_set[0]['x'].shape\n",
    "conditional_features, _ = train_set[0]['cond'].shape\n",
    "model = Moglow(\n",
    "    features,\n",
    "    conditional_features,\n",
    "    sequence_length,\n",
    "    num_layers=num_layers,\n",
    "    coupling_flow=coupling_flow,\n",
    "    coupling_network=coupling_network,\n",
    "    hidden_features=hidden_features,\n",
    "    num_blocks_per_layer=num_blocks_per_layer\n",
    ").to(device)"
   ]
  },
  {
   "cell_type": "code",
   "execution_count": null,
   "metadata": {},
   "outputs": [
    {
     "name": "stdout",
     "output_type": "stream",
     "text": [
      " - Epoch   1/1000: 563.626\n",
      " - Epoch 100/1000: -1172.877\n",
      " - Epoch 200/1000: -1633.884\n",
      " - Epoch 300/1000: -1816.725\n",
      " - Epoch 400/1000: -1903.165\n",
      " - Epoch 500/1000: -2051.062\n",
      " - Epoch 600/1000: -2124.366\n",
      " - Epoch 700/1000: -1837.935\n"
     ]
    }
   ],
   "source": [
    "# train\n",
    "optimizer = optim.Adam(\n",
    "    model.parameters(),\n",
    "    lr=learning_rate,\n",
    "    weight_decay=weight_decay\n",
    ")\n",
    "loss_list = []\n",
    "batch_norm = []\n",
    "for epoch in range(1, max_epochs+1):\n",
    "    running_loss = 0.0\n",
    "    model.train()\n",
    "    for i, data_batch in enumerate(train_loader):\n",
    "        if epoch == 1:\n",
    "            model.init_lstm_hidden(data_batch)\n",
    "        model.repackage_lstm_hidden()\n",
    "        optimizer.zero_grad()\n",
    "        loss = -model.log_prob(inputs=data_batch['x'], conds=data_batch['cond']).mean()\n",
    "        loss.backward()\n",
    "        # torch.nn.utils.clip_grad_norm_(model.parameters(), 0.25)\n",
    "        # for p in model.parameters(): \n",
    "        #     p.data.add_(-learning_rate, p.grad.data)\n",
    "        optimizer.step()\n",
    "        # statistics\n",
    "        running_loss += loss.item() * data_batch['x'].size(0)\n",
    "    epoch_loss = running_loss / train_set_size\n",
    "    loss_list.append(epoch_loss)\n",
    "    if (epoch % log_interval == 0) or epoch == 1:\n",
    "        print(f\" - Epoch {epoch:3d}/{max_epochs:3d}: {epoch_loss:.3f}\")"
   ]
  },
  {
   "cell_type": "code",
   "execution_count": null,
   "metadata": {},
   "outputs": [],
   "source": [
    "plt.plot(loss_list)\n",
    "plt.show()"
   ]
  },
  {
   "cell_type": "code",
   "execution_count": null,
   "metadata": {},
   "outputs": [],
   "source": [
    "model.eval()\n",
    "# batch_size = 128\n",
    "# test_loader = DataLoader(test_set, batch_size=batch_size, shuffle=False)\n",
    "# train_loader = DataLoader(train_set, batch_size=batch_size, shuffle=False)\n",
    "# log_probs = []\n",
    "# for batch in train_loader:\n",
    "#     inputs = batch['x']\n",
    "#     conds = batch['cond']\n",
    "#     log_probs.append(-model.log_prob(inputs=inputs, conds=conds))"
   ]
  },
  {
   "cell_type": "code",
   "execution_count": null,
   "metadata": {},
   "outputs": [],
   "source": [
    "# probs = torch.cat(log_probs).detach().numpy()\n",
    "\n",
    "# plt.hist(probs[train_set[:]['label'] == 0], bins=50, color='red')\n",
    "# plt.hist(probs[train_set[:]['label'] == 1], bins=50, color='blue')\n",
    "# plt.show()"
   ]
  },
  {
   "cell_type": "code",
   "execution_count": null,
   "metadata": {},
   "outputs": [],
   "source": [
    "# n_samples = 1\n",
    "# for travel in range(train_set[:]['cond'].shape[0]):\n",
    "#     inputs = torch.Tensor(train_set[travel]['x']).repeat(n_samples, 1, 1).double()\n",
    "#     conds = torch.Tensor(train_set[travel]['cond']).repeat(n_samples, 1, 1).double()\n",
    "#     model.init_lstm_hidden({\n",
    "#         'x': inputs,\n",
    "#         'cond': conds\n",
    "#     })\n",
    "#     samples = model.sample(n_samples, conds)\n",
    "#     for sample in samples.detach().numpy():\n",
    "#         sample = sample.transpose()\n",
    "#         plt.plot(sample[:, 0], sample[:, 1], color='blue', alpha=.05)\n",
    "# plt.show()"
   ]
  }
 ],
 "metadata": {
  "kernelspec": {
   "display_name": "Python 3 (ipykernel)",
   "language": "python",
   "name": "python3"
  },
  "language_info": {
   "codemirror_mode": {
    "name": "ipython",
    "version": 3
   },
   "file_extension": ".py",
   "mimetype": "text/x-python",
   "name": "python",
   "nbconvert_exporter": "python",
   "pygments_lexer": "ipython3",
   "version": "3.8.10"
  },
  "vscode": {
   "interpreter": {
    "hash": "15d4ac55605c8ed670fa181f39f48205fa3e06cc7b4f096aca8bcbbe335d4663"
   }
  }
 },
 "nbformat": 4,
 "nbformat_minor": 4
}
